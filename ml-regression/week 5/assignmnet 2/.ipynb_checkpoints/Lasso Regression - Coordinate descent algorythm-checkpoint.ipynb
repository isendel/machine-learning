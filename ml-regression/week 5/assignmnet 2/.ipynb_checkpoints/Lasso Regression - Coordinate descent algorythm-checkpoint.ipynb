{
 "cells": [
  {
   "cell_type": "code",
   "execution_count": 1,
   "metadata": {
    "collapsed": true
   },
   "outputs": [],
   "source": [
    "import numpy as np\n",
    "import pandas as pd"
   ]
  },
  {
   "cell_type": "code",
   "execution_count": 2,
   "metadata": {
    "collapsed": true
   },
   "outputs": [],
   "source": [
    "dtype_dict = {'bathrooms':float, 'waterfront':int, 'sqft_above':int, 'sqft_living15':float, 'grade':int, 'yr_renovated':int, 'price':float, 'bedrooms':float, 'zipcode':str, 'long':float, 'sqft_lot15':float, 'sqft_living':float, 'floors':str, 'condition':int, 'lat':float, 'date':str, 'sqft_basement':int, 'yr_built':int, 'id':str, 'sqft_lot':int, 'view':int}"
   ]
  },
  {
   "cell_type": "code",
   "execution_count": 3,
   "metadata": {
    "collapsed": false
   },
   "outputs": [],
   "source": [
    "sales = pd.read_csv('kc_house_data.csv', dtype=dtype_dict)"
   ]
  },
  {
   "cell_type": "code",
   "execution_count": 4,
   "metadata": {
    "collapsed": true
   },
   "outputs": [],
   "source": [
    "def get_numpy_data(dataset, features, output_name):\n",
    "    dataset['constant'] = 1\n",
    "    return dataset[['constant'] + features].values, dataset[output_name].values.reshape(\n",
    "            (len(dataset[output_name].values), 1))"
   ]
  },
  {
   "cell_type": "code",
   "execution_count": 5,
   "metadata": {
    "collapsed": true
   },
   "outputs": [],
   "source": [
    "def predict_output(feature_matrix, weights):\n",
    "    return feature_matrix.dot(weights)"
   ]
  },
  {
   "cell_type": "code",
   "execution_count": 33,
   "metadata": {
    "collapsed": true
   },
   "outputs": [],
   "source": [
    "def normalize_features(features):\n",
    "    norms = np.linalg.norm(features, axis=0)\n",
    "    return features/norms, norms.reshape((len(norms), 1))"
   ]
  },
  {
   "cell_type": "code",
   "execution_count": 7,
   "metadata": {
    "collapsed": true
   },
   "outputs": [],
   "source": [
    "def compute_roi(i, feature_matrix, output, prediction, weights):\n",
    "    return sum(feature_matrix[:, i:i + 1] * (output - prediction + weights[i, 0] * feature_matrix[:, i:i + 1]))"
   ]
  },
  {
   "cell_type": "code",
   "execution_count": 8,
   "metadata": {
    "collapsed": true
   },
   "outputs": [],
   "source": [
    "def lasso_coordinate_descent_step(i, feature_matrix, output, weights, l1_penalty):\n",
    "    prediction = predict_output(feature_matrix, weights)\n",
    "    ro_i = compute_roi(i, feature_matrix, output, prediction, weights)\n",
    "    # print('Ro_%s: %s, l1_penalty / 2.: %s' % (i, ro_i, l1_penalty / 2.))\n",
    "    if i == 0:\n",
    "        new_weight_i = ro_i\n",
    "    elif ro_i < -l1_penalty / 2.:\n",
    "        new_weight_i = ro_i + l1_penalty / 2.\n",
    "    elif ro_i > l1_penalty / 2.:\n",
    "        new_weight_i = ro_i - l1_penalty / 2.\n",
    "    else:\n",
    "        new_weight_i = 0\n",
    "    return new_weight_i"
   ]
  },
  {
   "cell_type": "code",
   "execution_count": 9,
   "metadata": {
    "collapsed": false
   },
   "outputs": [
    {
     "name": "stdout",
     "output_type": "stream",
     "text": [
      "[ 0.42555885]\n"
     ]
    }
   ],
   "source": [
    "# should print 0.425558846691\n",
    "import math\n",
    "print(lasso_coordinate_descent_step(1, np.array([[3./math.sqrt(13),1./math.sqrt(10)],\n",
    "                   [2./math.sqrt(13),3./math.sqrt(10)]]), np.array([1., 1.]).reshape((2,1)), np.array([1., 4.]).reshape((2,1)), 0.1))"
   ]
  },
  {
   "cell_type": "markdown",
   "metadata": {},
   "source": [
    "# Effect of L1 penalty"
   ]
  },
  {
   "cell_type": "code",
   "execution_count": 10,
   "metadata": {
    "collapsed": false
   },
   "outputs": [],
   "source": [
    "initial_weights = np.array([1, 4, 1]).reshape((3,1))\n",
    "features_matrix, output = get_numpy_data(sales, ['sqft_living', 'bedrooms'], 'price')\n",
    "features_matrix_normalized, norm = normalize_features(features_matrix)"
   ]
  },
  {
   "cell_type": "code",
   "execution_count": 11,
   "metadata": {
    "collapsed": false
   },
   "outputs": [
    {
     "name": "stdout",
     "output_type": "stream",
     "text": [
      "[ 79400300.01452321]\n",
      "[ 87939470.82325152]\n",
      "[ 80966698.66623905]\n"
     ]
    }
   ],
   "source": [
    "prediction = predict_output(features_matrix_normalized, initial_weights)\n",
    "ro_0 = compute_roi(0, features_matrix_normalized, output, prediction, initial_weights)\n",
    "print(ro_0)\n",
    "ro_1 = compute_roi(1, features_matrix_normalized, output, prediction, initial_weights)\n",
    "print(ro_1)\n",
    "ro_2 = compute_roi(2, features_matrix_normalized, output, prediction, initial_weights)\n",
    "print(ro_2)"
   ]
  },
  {
   "cell_type": "code",
   "execution_count": 23,
   "metadata": {
    "collapsed": true
   },
   "outputs": [],
   "source": [
    "def lasso_cyclical_coordinate_descent(feature_matrix, output, initial_weights, l1_penalty, tolerance):\n",
    "    weights = initial_weights\n",
    "    change_magnitude = np.zeros((len(weights), 1))\n",
    "    converged = False\n",
    "    cycle_count = 0\n",
    "    while not converged:\n",
    "        # new_weights = weights\n",
    "        for i in range(len(weights)):\n",
    "            weights_i = lasso_coordinate_descent_step(i, feature_matrix, output, weights, l1_penalty)\n",
    "            change_magnitude[i] = abs(weights[i, 0] - weights_i)\n",
    "            # print('Change magnitude for %s: %s' % (i, change_magnitude[i]))\n",
    "            # new_weights[i] = weights_i\n",
    "            weights[i, 0] = weights_i\n",
    "        # weights = new_weights\n",
    "        magnitude_ = sum(change_magnitude)\n",
    "        # print('Weights: %s' % weights)\n",
    "        cycle_count += 1\n",
    "        if cycle_count % 5 == 0:\n",
    "            print('%s cycles passed. Magnitude: %s' % (cycle_count, magnitude_))\n",
    "        if magnitude_ < tolerance or cycle_count > 1000:\n",
    "            converged = True\n",
    "    return weights"
   ]
  },
  {
   "cell_type": "code",
   "execution_count": 13,
   "metadata": {
    "collapsed": false
   },
   "outputs": [
    {
     "name": "stdout",
     "output_type": "stream",
     "text": [
      "[  1.47013605e+02   3.34257264e+05   5.14075870e+02]\n",
      "[[ 0.00680209  0.00353021  0.00583571]\n",
      " [ 0.00680209  0.00768869  0.00583571]\n",
      " [ 0.00680209  0.00230361  0.00389048]\n",
      " ..., \n",
      " [ 0.00680209  0.00305154  0.00389048]\n",
      " [ 0.00680209  0.00478673  0.00583571]\n",
      " [ 0.00680209  0.00305154  0.00389048]]\n",
      "5 cycles passed. Magnitude: [ 10573774.65507453]\n",
      "10 cycles passed. Magnitude: [ 4339310.74125477]\n",
      "15 cycles passed. Magnitude: [ 1780784.82376609]\n",
      "20 cycles passed. Magnitude: [ 730805.26826212]\n",
      "25 cycles passed. Magnitude: [ 299911.13064792]\n",
      "30 cycles passed. Magnitude: [ 123079.74001583]\n",
      "35 cycles passed. Magnitude: [ 50509.79389759]\n",
      "40 cycles passed. Magnitude: [ 20728.7994532]\n",
      "45 cycles passed. Magnitude: [ 8506.04351887]\n",
      "50 cycles passed. Magnitude: [ 3490.71473436]\n",
      "55 cycles passed. Magnitude: [ 1432.33454936]\n",
      "60 cycles passed. Magnitude: [ 587.84190048]\n",
      "65 cycles passed. Magnitude: [ 241.1840947]\n",
      "70 cycles passed. Magnitude: [ 98.35301779]\n",
      "75 cycles passed. Magnitude: [ 40.57295382]\n",
      "80 cycles passed. Magnitude: [ 16.81329484]\n",
      "85 cycles passed. Magnitude: [ 6.29690337]\n",
      "90 cycles passed. Magnitude: [ 2.33696122]\n",
      "95 cycles passed. Magnitude: [ 1.48481113]\n",
      "100 cycles passed. Magnitude: [ 1.51604535]\n",
      "[[21624995]\n",
      " [63157249]\n",
      " [       0]]\n"
     ]
    }
   ],
   "source": [
    "features_matrix, output = get_numpy_data(sales, ['sqft_living', 'bedrooms'], 'price')\n",
    "normalized_feature_matrix, norm = normalize_features(features_matrix)\n",
    "print(norm)\n",
    "print(normalized_feature_matrix)\n",
    "l1_penalty = 1e7\n",
    "tolerance = 1\n",
    "lasso_weights = lasso_cyclical_coordinate_descent(normalized_feature_matrix, output, np.array([0, 0, 0]).reshape((3,1)), l1_penalty, tolerance)\n",
    "print(lasso_weights)"
   ]
  },
  {
   "cell_type": "code",
   "execution_count": 14,
   "metadata": {
    "collapsed": false
   },
   "outputs": [
    {
     "name": "stdout",
     "output_type": "stream",
     "text": [
      "RSS: [[  6.95526005e+15]]\n"
     ]
    }
   ],
   "source": [
    "errors = predict_output(normalized_feature_matrix, lasso_weights)\n",
    "rss = errors.T.dot(errors)\n",
    "print('RSS: %s' % rss)"
   ]
  },
  {
   "cell_type": "markdown",
   "metadata": {
    "collapsed": true
   },
   "source": [
    "# Evaluate coordinate descent on larger set of features"
   ]
  },
  {
   "cell_type": "code",
   "execution_count": 15,
   "metadata": {
    "collapsed": true
   },
   "outputs": [],
   "source": [
    "train_data = pd.read_csv('kc_house_train_data.csv')\n",
    "test_data = pd.read_csv('kc_house_test_data.csv')"
   ]
  },
  {
   "cell_type": "code",
   "execution_count": 34,
   "metadata": {
    "collapsed": false
   },
   "outputs": [],
   "source": [
    "all_features = ['bedrooms', 'bathrooms', 'sqft_living', 'sqft_lot', 'floors', 'waterfront', 'view', 'condition', 'grade', 'sqft_above', 'sqft_basement', 'yr_built', 'yr_renovated']\n",
    "train_features_matrix, train_output = get_numpy_data(train_data, all_features, 'price')\n",
    "train_features_matrix_normalized, train_norm = normalize_features(train_features_matrix)"
   ]
  },
  {
   "cell_type": "code",
   "execution_count": 35,
   "metadata": {
    "collapsed": false
   },
   "outputs": [
    {
     "name": "stdout",
     "output_type": "stream",
     "text": [
      "5 cycles passed. Magnitude: [ 11859917.18352854]\n",
      "10 cycles passed. Magnitude: [ 5583360.66817527]\n",
      "15 cycles passed. Magnitude: [ 1057396.13849319]\n",
      "20 cycles passed. Magnitude: [ 446572.45915572]\n",
      "25 cycles passed. Magnitude: [ 190050.53755865]\n",
      "30 cycles passed. Magnitude: [ 80882.64846321]\n",
      "35 cycles passed. Magnitude: [ 34422.43854406]\n",
      "40 cycles passed. Magnitude: [ 14649.67206017]\n",
      "45 cycles passed. Magnitude: [ 6234.68006782]\n",
      "50 cycles passed. Magnitude: [ 2653.3860546]\n",
      "55 cycles passed. Magnitude: [ 1129.24119268]\n",
      "60 cycles passed. Magnitude: [ 480.58806567]\n",
      "65 cycles passed. Magnitude: [ 204.53105217]\n",
      "70 cycles passed. Magnitude: [ 87.0453393]\n",
      "75 cycles passed. Magnitude: [ 37.04518678]\n",
      "80 cycles passed. Magnitude: [ 15.76587475]\n",
      "85 cycles passed. Magnitude: [ 6.70971866]\n",
      "90 cycles passed. Magnitude: [ 2.85555523]\n",
      "95 cycles passed. Magnitude: [ 1.21528147]\n",
      "[[ 24429597.96727435]\n",
      " [        0.        ]\n",
      " [        0.        ]\n",
      " [ 48389176.90646759]\n",
      " [        0.        ]\n",
      " [        0.        ]\n",
      " [  3317511.2178916 ]\n",
      " [  7329961.67180582]\n",
      " [        0.        ]\n",
      " [        0.        ]\n",
      " [        0.        ]\n",
      " [        0.        ]\n",
      " [        0.        ]\n",
      " [        0.        ]]\n"
     ]
    }
   ],
   "source": [
    "l1_penalty = 1e7\n",
    "tolerance = 1\n",
    "weights1e7 = lasso_cyclical_coordinate_descent(train_features_matrix_normalized, train_output,\n",
    "                                               np.zeros((len(all_features) + 1, 1)),\n",
    "                                               l1_penalty,\n",
    "                                               tolerance)\n",
    "print(weights1e7)"
   ]
  },
  {
   "cell_type": "code",
   "execution_count": 20,
   "metadata": {
    "collapsed": false
   },
   "outputs": [
    {
     "name": "stdout",
     "output_type": "stream",
     "text": [
      "[[ 71114625.71488713]\n",
      " [        0.        ]\n",
      " [        0.        ]\n",
      " [        0.        ]\n",
      " [        0.        ]\n",
      " [        0.        ]\n",
      " [        0.        ]\n",
      " [        0.        ]\n",
      " [        0.        ]\n",
      " [        0.        ]\n",
      " [        0.        ]\n",
      " [        0.        ]\n",
      " [        0.        ]\n",
      " [        0.        ]]\n"
     ]
    }
   ],
   "source": [
    "l1_penalty=1e8\n",
    "weights1e8 = lasso_cyclical_coordinate_descent(train_features_matrix_normalized, train_output,\n",
    "                                               np.zeros((len(all_features) + 1, 1)),\n",
    "                                               l1_penalty,\n",
    "                                               tolerance)\n",
    "print(weights1e8)"
   ]
  },
  {
   "cell_type": "code",
   "execution_count": 24,
   "metadata": {
    "collapsed": false
   },
   "outputs": [
    {
     "name": "stdout",
     "output_type": "stream",
     "text": [
      "5 cycles passed. Magnitude: [ 18077504.27530563]\n",
      "10 cycles passed. Magnitude: [ 6371784.58255979]\n",
      "15 cycles passed. Magnitude: [ 5426454.7063846]\n",
      "20 cycles passed. Magnitude: [ 5142779.24737815]\n",
      "25 cycles passed. Magnitude: [ 4963747.49404388]\n",
      "30 cycles passed. Magnitude: [ 4595972.09881297]\n",
      "35 cycles passed. Magnitude: [ 4167302.12166832]\n",
      "40 cycles passed. Magnitude: [ 3748617.7136577]\n",
      "45 cycles passed. Magnitude: [ 3401393.98532931]\n",
      "50 cycles passed. Magnitude: [ 3218626.93722823]\n",
      "55 cycles passed. Magnitude: [ 3048068.4342303]\n",
      "60 cycles passed. Magnitude: [ 2895417.09009566]\n",
      "65 cycles passed. Magnitude: [ 2759494.80573087]\n",
      "70 cycles passed. Magnitude: [ 2636132.08227795]\n",
      "75 cycles passed. Magnitude: [ 2524647.69130691]\n",
      "80 cycles passed. Magnitude: [ 2424944.59909478]\n",
      "85 cycles passed. Magnitude: [ 2336518.50397539]\n",
      "90 cycles passed. Magnitude: [ 2257073.27017595]\n",
      "95 cycles passed. Magnitude: [ 2190258.96046202]\n",
      "100 cycles passed. Magnitude: [ 2135935.96345648]\n",
      "105 cycles passed. Magnitude: [ 2084294.04467025]\n",
      "110 cycles passed. Magnitude: [ 2035209.55168389]\n",
      "115 cycles passed. Magnitude: [ 1988515.72553825]\n",
      "120 cycles passed. Magnitude: [ 1944025.20649928]\n",
      "125 cycles passed. Magnitude: [ 1901545.27077399]\n",
      "130 cycles passed. Magnitude: [ 1860887.83578987]\n",
      "135 cycles passed. Magnitude: [ 1821875.72000974]\n",
      "140 cycles passed. Magnitude: [ 1784346.23869701]\n",
      "145 cycles passed. Magnitude: [ 1748152.92669231]\n",
      "150 cycles passed. Magnitude: [ 1713165.96974641]\n",
      "155 cycles passed. Magnitude: [ 1679271.77270914]\n",
      "160 cycles passed. Magnitude: [ 1646371.97891942]\n",
      "165 cycles passed. Magnitude: [ 1614382.16944214]\n",
      "170 cycles passed. Magnitude: [ 1583230.40605071]\n",
      "175 cycles passed. Magnitude: [ 1552855.73264584]\n",
      "180 cycles passed. Magnitude: [ 1523206.71287511]\n",
      "185 cycles passed. Magnitude: [ 1494240.05396056]\n",
      "190 cycles passed. Magnitude: [ 1465919.34638821]\n",
      "195 cycles passed. Magnitude: [ 1438213.93428008]\n",
      "200 cycles passed. Magnitude: [ 1411097.92081927]\n",
      "205 cycles passed. Magnitude: [ 1384549.30599547]\n",
      "210 cycles passed. Magnitude: [ 1358549.2492327]\n",
      "215 cycles passed. Magnitude: [ 1333081.44673792]\n",
      "220 cycles passed. Magnitude: [ 1308131.61189223]\n",
      "225 cycles passed. Magnitude: [ 1283687.04664613]\n",
      "230 cycles passed. Magnitude: [ 1259736.29193454]\n",
      "235 cycles passed. Magnitude: [ 1236268.84586933]\n",
      "240 cycles passed. Magnitude: [ 1213274.93928161]\n",
      "245 cycles passed. Magnitude: [ 1190745.35921233]\n",
      "250 cycles passed. Magnitude: [ 1168671.31212184]\n",
      "255 cycles passed. Magnitude: [ 1147044.31947692]\n",
      "260 cycles passed. Magnitude: [ 1125856.13959952]\n",
      "265 cycles passed. Magnitude: [ 1105098.71041835]\n",
      "270 cycles passed. Magnitude: [ 1084764.10876409]\n",
      "275 cycles passed. Magnitude: [ 1064844.52246694]\n",
      "280 cycles passed. Magnitude: [ 1045332.2322878]\n",
      "285 cycles passed. Magnitude: [ 1026219.60124242]\n",
      "290 cycles passed. Magnitude: [ 1007499.06930435]\n",
      "295 cycles passed. Magnitude: [ 989163.1519978]\n",
      "300 cycles passed. Magnitude: [ 971204.44160467]\n",
      "305 cycles passed. Magnitude: [ 953615.61010564]\n",
      "310 cycles passed. Magnitude: [ 936389.41308603]\n",
      "315 cycles passed. Magnitude: [ 919518.69415279]\n",
      "320 cycles passed. Magnitude: [ 902996.38938609]\n",
      "325 cycles passed. Magnitude: [ 886815.5316676]\n",
      "330 cycles passed. Magnitude: [ 870969.25461148]\n",
      "335 cycles passed. Magnitude: [ 855450.79605268]\n",
      "340 cycles passed. Magnitude: [ 840253.50101456]\n",
      "345 cycles passed. Magnitude: [ 825370.824117]\n",
      "350 cycles passed. Magnitude: [ 810796.33145863]\n",
      "355 cycles passed. Magnitude: [ 796523.70197935]\n",
      "360 cycles passed. Magnitude: [ 782546.72834434]\n",
      "365 cycles passed. Magnitude: [ 768859.31738664]\n",
      "370 cycles passed. Magnitude: [ 755455.49016937]\n",
      "375 cycles passed. Magnitude: [ 742329.38169811]\n",
      "380 cycles passed. Magnitude: [ 729475.24031108]\n",
      "385 cycles passed. Magnitude: [ 716887.42685278]\n",
      "390 cycles passed. Magnitude: [ 704560.4136005]\n",
      "395 cycles passed. Magnitude: [ 692488.78301264]\n",
      "400 cycles passed. Magnitude: [ 680667.22633795]\n",
      "405 cycles passed. Magnitude: [ 669090.54209439]\n",
      "410 cycles passed. Magnitude: [ 657753.6344605]\n",
      "415 cycles passed. Magnitude: [ 646651.51157418]\n",
      "420 cycles passed. Magnitude: [ 635779.28381495]\n",
      "425 cycles passed. Magnitude: [ 625132.16199923]\n",
      "430 cycles passed. Magnitude: [ 614705.45558152]\n",
      "435 cycles passed. Magnitude: [ 604494.57083596]\n",
      "440 cycles passed. Magnitude: [ 594495.00901769]\n",
      "445 cycles passed. Magnitude: [ 584702.36455201]\n",
      "450 cycles passed. Magnitude: [ 575112.3232139]\n",
      "455 cycles passed. Magnitude: [ 565720.66032029]\n",
      "460 cycles passed. Magnitude: [ 556523.23894995]\n",
      "465 cycles passed. Magnitude: [ 547516.0081885]\n",
      "470 cycles passed. Magnitude: [ 538695.00137949]\n",
      "475 cycles passed. Magnitude: [ 530056.33442009]\n",
      "480 cycles passed. Magnitude: [ 521596.2040704]\n",
      "485 cycles passed. Magnitude: [ 513310.88629588]\n",
      "490 cycles passed. Magnitude: [ 505196.73464908]\n",
      "495 cycles passed. Magnitude: [ 497250.17866011]\n",
      "500 cycles passed. Magnitude: [ 489467.7222797]\n",
      "505 cycles passed. Magnitude: [ 481845.94233205]\n",
      "510 cycles passed. Magnitude: [ 474381.48700496]\n",
      "515 cycles passed. Magnitude: [ 467071.07437358]\n",
      "520 cycles passed. Magnitude: [ 459911.49095843]\n",
      "525 cycles passed. Magnitude: [ 452904.31635183]\n",
      "530 cycles passed. Magnitude: [ 446048.12900327]\n",
      "535 cycles passed. Magnitude: [ 439333.28879217]\n",
      "540 cycles passed. Magnitude: [ 432756.8470397]\n",
      "545 cycles passed. Magnitude: [ 425885.10087065]\n",
      "550 cycles passed. Magnitude: [ 419320.16989332]\n",
      "555 cycles passed. Magnitude: [ 412725.53424221]\n",
      "560 cycles passed. Magnitude: [ 406374.31754538]\n",
      "565 cycles passed. Magnitude: [ 400229.301218]\n",
      "570 cycles passed. Magnitude: [ 394262.68614701]\n",
      "575 cycles passed. Magnitude: [ 388453.66488366]\n",
      "580 cycles passed. Magnitude: [ 382786.61077837]\n",
      "585 cycles passed. Magnitude: [ 377249.76998519]\n",
      "590 cycles passed. Magnitude: [ 371834.27922332]\n",
      "595 cycles passed. Magnitude: [ 366602.62456315]\n",
      "600 cycles passed. Magnitude: [ 361539.47213243]\n",
      "605 cycles passed. Magnitude: [ 356643.05777298]\n",
      "610 cycles passed. Magnitude: [ 351864.46732221]\n",
      "615 cycles passed. Magnitude: [ 347175.34112466]\n",
      "620 cycles passed. Magnitude: [ 342562.51279337]\n",
      "625 cycles passed. Magnitude: [ 338021.66084347]\n",
      "630 cycles passed. Magnitude: [ 333552.90236251]\n",
      "635 cycles passed. Magnitude: [ 329158.16651828]\n",
      "640 cycles passed. Magnitude: [ 324839.78454851]\n",
      "645 cycles passed. Magnitude: [ 320599.81161401]\n",
      "650 cycles passed. Magnitude: [ 316439.75465922]\n",
      "655 cycles passed. Magnitude: [ 312360.51012164]\n",
      "660 cycles passed. Magnitude: [ 308362.40131303]\n",
      "665 cycles passed. Magnitude: [ 304445.25647027]\n",
      "670 cycles passed. Magnitude: [ 300608.49767993]\n",
      "675 cycles passed. Magnitude: [ 296851.22632184]\n",
      "680 cycles passed. Magnitude: [ 293172.29907716]\n",
      "685 cycles passed. Magnitude: [ 289570.39256693]\n",
      "690 cycles passed. Magnitude: [ 286044.05675674]\n",
      "695 cycles passed. Magnitude: [ 282591.75804993]\n",
      "700 cycles passed. Magnitude: [ 279211.91350034]\n",
      "705 cycles passed. Magnitude: [ 275902.91738165]\n",
      "710 cycles passed. Magnitude: [ 272663.1614833]\n",
      "715 cycles passed. Magnitude: [ 269491.05025099]\n",
      "720 cycles passed. Magnitude: [ 266385.01177449]\n",
      "725 cycles passed. Magnitude: [ 263343.50550663]\n",
      "730 cycles passed. Magnitude: [ 260365.02733283]\n",
      "735 cycles passed. Magnitude: [ 257448.11270929]\n",
      "740 cycles passed. Magnitude: [ 254591.33826081]\n",
      "745 cycles passed. Magnitude: [ 251793.32225572]\n",
      "750 cycles passed. Magnitude: [ 249052.72425482]\n",
      "755 cycles passed. Magnitude: [ 246368.24420074]\n",
      "760 cycles passed. Magnitude: [ 243738.62113648]\n",
      "765 cycles passed. Magnitude: [ 241162.63167234]\n",
      "770 cycles passed. Magnitude: [ 238639.08833058]\n",
      "775 cycles passed. Magnitude: [ 236166.83785025]\n",
      "780 cycles passed. Magnitude: [ 233744.75950055]\n",
      "785 cycles passed. Magnitude: [ 231371.76345506]\n",
      "790 cycles passed. Magnitude: [ 229046.78922382]\n",
      "795 cycles passed. Magnitude: [ 226768.80420703]\n",
      "800 cycles passed. Magnitude: [ 224536.80232776]\n",
      "805 cycles passed. Magnitude: [ 222349.80279138]\n",
      "810 cycles passed. Magnitude: [ 220206.84891585]\n",
      "815 cycles passed. Magnitude: [ 218107.00708189]\n",
      "820 cycles passed. Magnitude: [ 216049.36579226]\n",
      "825 cycles passed. Magnitude: [ 214033.03475741]\n",
      "830 cycles passed. Magnitude: [ 212057.14412336]\n",
      "835 cycles passed. Magnitude: [ 210120.843716]\n",
      "840 cycles passed. Magnitude: [ 208223.30238169]\n",
      "845 cycles passed. Magnitude: [ 206363.70737653]\n",
      "850 cycles passed. Magnitude: [ 204541.26378226]\n",
      "855 cycles passed. Magnitude: [ 202755.19398289]\n",
      "860 cycles passed. Magnitude: [ 201004.73717925]\n",
      "865 cycles passed. Magnitude: [ 199289.14892486]\n",
      "870 cycles passed. Magnitude: [ 197607.70070859]\n",
      "875 cycles passed. Magnitude: [ 195959.67953637]\n",
      "880 cycles passed. Magnitude: [ 194344.38754952]\n",
      "885 cycles passed. Magnitude: [ 192761.14167435]\n",
      "890 cycles passed. Magnitude: [ 191209.27324361]\n",
      "895 cycles passed. Magnitude: [ 189688.1277083]\n",
      "900 cycles passed. Magnitude: [ 187532.97519427]\n",
      "905 cycles passed. Magnitude: [ 186155.53728232]\n",
      "910 cycles passed. Magnitude: [ 184791.80952353]\n",
      "915 cycles passed. Magnitude: [ 183450.59174092]\n",
      "920 cycles passed. Magnitude: [ 182134.84333255]\n",
      "925 cycles passed. Magnitude: [ 180845.28957457]\n",
      "930 cycles passed. Magnitude: [ 179581.78688884]\n",
      "935 cycles passed. Magnitude: [ 178343.87824957]\n",
      "940 cycles passed. Magnitude: [ 177131.01094234]\n",
      "945 cycles passed. Magnitude: [ 175942.61693701]\n",
      "950 cycles passed. Magnitude: [ 174778.13958494]\n",
      "955 cycles passed. Magnitude: [ 173637.04041023]\n",
      "960 cycles passed. Magnitude: [ 172518.79925091]\n",
      "965 cycles passed. Magnitude: [ 171770.47234096]\n",
      "970 cycles passed. Magnitude: [ 171125.52633565]\n",
      "975 cycles passed. Magnitude: [ 170493.04052191]\n",
      "980 cycles passed. Magnitude: [ 169872.66037468]\n",
      "985 cycles passed. Magnitude: [ 169264.0573548]\n",
      "990 cycles passed. Magnitude: [ 168676.2532717]\n",
      "995 cycles passed. Magnitude: [ 168201.66314768]\n",
      "1000 cycles passed. Magnitude: [ 167719.32156848]\n",
      "[[  1.47465697e+08]\n",
      " [ -1.79251810e+07]\n",
      " [  8.68932901e+02]\n",
      " [  1.88519800e+08]\n",
      " [ -1.59866712e+06]\n",
      " [  4.95360966e+05]\n",
      " [  6.76772376e+06]\n",
      " [  5.44624529e+06]\n",
      " [  2.10554820e+07]\n",
      " [  1.13254584e+08]\n",
      " [ -1.14835732e+08]\n",
      " [ -2.94131055e+07]\n",
      " [ -2.46476790e+08]\n",
      " [  2.98585891e+06]]\n"
     ]
    }
   ],
   "source": [
    "l1_penalty=1e4\n",
    "weights1e4 = lasso_cyclical_coordinate_descent(train_features_matrix_normalized, train_output,\n",
    "                                               np.zeros((len(all_features) + 1, 1)),\n",
    "                                               l1_penalty,\n",
    "                                               tolerance)\n",
    "print(weights1e4)"
   ]
  },
  {
   "cell_type": "code",
   "execution_count": 38,
   "metadata": {
    "collapsed": true
   },
   "outputs": [],
   "source": [
    "normalized_weights1e7 = weights1e7/train_norm\n",
    "normalized_weights1e4 = weights1e4/train_norm\n",
    "normalized_weights1e8 = weights1e8/train_norm"
   ]
  },
  {
   "cell_type": "code",
   "execution_count": 41,
   "metadata": {
    "collapsed": false
   },
   "outputs": [],
   "source": [
    "test_feature_matrix, test_output = get_numpy_data(test_data, all_features, 'price')\n",
    "prediction1e7 = predict_output(test_feature_matrix, normalized_weights1e7)\n",
    "prediction1e4 = predict_output(test_feature_matrix, normalized_weights1e4)\n",
    "prediction1e8 = predict_output(test_feature_matrix, normalized_weights1e8)"
   ]
  },
  {
   "cell_type": "code",
   "execution_count": 42,
   "metadata": {
    "collapsed": true
   },
   "outputs": [],
   "source": [
    "error1e7 = test_output - prediction1e7\n",
    "error1e4 = test_output - prediction1e4\n",
    "error1e8 = test_output - prediction1e8"
   ]
  },
  {
   "cell_type": "code",
   "execution_count": 43,
   "metadata": {
    "collapsed": true
   },
   "outputs": [],
   "source": [
    "RSS1e7 = error1e7.T.dot(error1e7)\n",
    "RSS1e4 = error1e7.T.dot(error1e4)\n",
    "RSS1e8 = error1e7.T.dot(error1e8)"
   ]
  },
  {
   "cell_type": "code",
   "execution_count": 45,
   "metadata": {
    "collapsed": false
   },
   "outputs": [],
   "source": [
    "RSS = [RSS1e4, RSS1e7, RSS1e8]"
   ]
  },
  {
   "cell_type": "code",
   "execution_count": 46,
   "metadata": {
    "collapsed": false
   },
   "outputs": [
    {
     "data": {
      "text/plain": [
       "array([[  2.00103066e+14]])"
      ]
     },
     "execution_count": 46,
     "metadata": {},
     "output_type": "execute_result"
    }
   ],
   "source": [
    "min(RSS)"
   ]
  },
  {
   "cell_type": "code",
   "execution_count": 47,
   "metadata": {
    "collapsed": false
   },
   "outputs": [
    {
     "data": {
      "text/plain": [
       "0"
      ]
     },
     "execution_count": 47,
     "metadata": {},
     "output_type": "execute_result"
    }
   ],
   "source": [
    "RSS.index(min(RSS))"
   ]
  },
  {
   "cell_type": "code",
   "execution_count": 48,
   "metadata": {
    "collapsed": false
   },
   "outputs": [
    {
     "data": {
      "text/plain": [
       "[array([[  2.00103066e+14]]),\n",
       " array([[  2.75962072e+14]]),\n",
       " array([[  3.41122091e+14]])]"
      ]
     },
     "execution_count": 48,
     "metadata": {},
     "output_type": "execute_result"
    }
   ],
   "source": [
    "RSS"
   ]
  },
  {
   "cell_type": "code",
   "execution_count": null,
   "metadata": {
    "collapsed": true
   },
   "outputs": [],
   "source": []
  }
 ],
 "metadata": {
  "kernelspec": {
   "display_name": "Python 3",
   "language": "python",
   "name": "python3"
  },
  "language_info": {
   "codemirror_mode": {
    "name": "ipython",
    "version": 3
   },
   "file_extension": ".py",
   "mimetype": "text/x-python",
   "name": "python",
   "nbconvert_exporter": "python",
   "pygments_lexer": "ipython3",
   "version": "3.5.1"
  }
 },
 "nbformat": 4,
 "nbformat_minor": 0
}
