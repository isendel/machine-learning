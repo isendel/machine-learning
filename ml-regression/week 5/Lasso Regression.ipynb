{
 "cells": [
  {
   "cell_type": "code",
   "execution_count": 2,
   "metadata": {
    "collapsed": false
   },
   "outputs": [],
   "source": [
    "import pandas as pd\n",
    "\n",
    "dtype_dict = {'bathrooms':float, 'waterfront':int, 'sqft_above':int, 'sqft_living15':float, 'grade':int, 'yr_renovated':int, 'price':float, 'bedrooms':float, 'zipcode':str, 'long':float, 'sqft_lot15':float, 'sqft_living':float, 'floors':float, 'condition':int, 'lat':float, 'date':str, 'sqft_basement':int, 'yr_built':int, 'id':str, 'sqft_lot':int, 'view':int}\n",
    "\n",
    "sales = pd.read_csv('kc_house_data.csv', dtype=dtype_dict)"
   ]
  },
  {
   "cell_type": "code",
   "execution_count": 3,
   "metadata": {
    "collapsed": true
   },
   "outputs": [],
   "source": [
    "from math import log, sqrt\n",
    "sales['sqft_living_sqrt'] = sales['sqft_living'].apply(sqrt)\n",
    "sales['sqft_lot_sqrt'] = sales['sqft_lot'].apply(sqrt)\n",
    "sales['bedrooms_square'] = sales['bedrooms']*sales['bedrooms']\n",
    "sales['floors_square'] = sales['floors']*sales['floors']"
   ]
  },
  {
   "cell_type": "code",
   "execution_count": 129,
   "metadata": {
    "collapsed": true
   },
   "outputs": [],
   "source": [
    "from sklearn import linear_model  # using scikit-learn\n",
    "\n",
    "all_features = ['bedrooms', 'bedrooms_square',\n",
    "            'bathrooms',\n",
    "            'sqft_living', 'sqft_living_sqrt',\n",
    "            'sqft_lot', 'sqft_lot_sqrt',\n",
    "            'floors', 'floors_square',\n",
    "            'waterfront', 'view', 'condition', 'grade',\n",
    "            'sqft_above',\n",
    "            'sqft_basement',\n",
    "            'yr_built', 'yr_renovated']"
   ]
  },
  {
   "cell_type": "code",
   "execution_count": 130,
   "metadata": {
    "collapsed": false
   },
   "outputs": [
    {
     "data": {
      "text/plain": [
       "Lasso(alpha=500.0, copy_X=True, fit_intercept=True, max_iter=1000,\n",
       "   normalize=True, positive=False, precompute=False, random_state=None,\n",
       "   selection='cyclic', tol=0.0001, warm_start=False)"
      ]
     },
     "execution_count": 130,
     "metadata": {},
     "output_type": "execute_result"
    }
   ],
   "source": [
    "model_all = linear_model.Lasso(alpha=5e2, normalize=True) # set parameters\n",
    "model_all.fit(sales[all_features], sales['price']) # learn weights"
   ]
  },
  {
   "cell_type": "code",
   "execution_count": 138,
   "metadata": {
    "collapsed": false,
    "scrolled": true
   },
   "outputs": [
    {
     "name": "stdout",
     "output_type": "stream",
     "text": [
      "             feature          coef\n",
      "0           bedrooms      0.000000\n",
      "1    bedrooms_square      0.000000\n",
      "2          bathrooms      0.000000\n",
      "3        sqft_living    134.439314\n",
      "4   sqft_living_sqrt      0.000000\n",
      "5           sqft_lot      0.000000\n",
      "6      sqft_lot_sqrt      0.000000\n",
      "7             floors      0.000000\n",
      "8      floors_square      0.000000\n",
      "9         waterfront      0.000000\n",
      "10              view  24750.004586\n",
      "11         condition      0.000000\n",
      "12             grade  61749.103091\n",
      "13        sqft_above      0.000000\n",
      "14     sqft_basement      0.000000\n",
      "15          yr_built     -0.000000\n",
      "16      yr_renovated      0.000000\n"
     ]
    }
   ],
   "source": [
    "import numpy as np\n",
    "model_all_coefs_array = np.zeros((len(all_features), 2))\n",
    "model_all_coefs = pd.DataFrame(model_all_coefs_array, columns=['feature', 'coef'])\n",
    "model_all_coefs['coef'] = model_all.coef_\n",
    "model_all_coefs['feature'] = np.array(all_features).reshape((len(all_features), 1))\n",
    "print(model_all_coefs)"
   ]
  },
  {
   "cell_type": "code",
   "execution_count": 139,
   "metadata": {
    "collapsed": true
   },
   "outputs": [],
   "source": [
    "testing = pd.read_csv('wk3_kc_house_test_data.csv', dtype=dtype_dict)\n",
    "training = pd.read_csv('wk3_kc_house_train_data.csv', dtype=dtype_dict)\n",
    "validation = pd.read_csv('wk3_kc_house_valid_data.csv', dtype=dtype_dict)"
   ]
  },
  {
   "cell_type": "code",
   "execution_count": 140,
   "metadata": {
    "collapsed": true
   },
   "outputs": [],
   "source": [
    "testing['sqft_living_sqrt'] = testing['sqft_living'].apply(sqrt)\n",
    "testing['sqft_lot_sqrt'] = testing['sqft_lot'].apply(sqrt)\n",
    "testing['bedrooms_square'] = testing['bedrooms']*testing['bedrooms']\n",
    "testing['floors_square'] = testing['floors']*testing['floors']\n",
    "\n",
    "training['sqft_living_sqrt'] = training['sqft_living'].apply(sqrt)\n",
    "training['sqft_lot_sqrt'] = training['sqft_lot'].apply(sqrt)\n",
    "training['bedrooms_square'] = training['bedrooms']*training['bedrooms']\n",
    "training['floors_square'] = training['floors']*training['floors']\n",
    "\n",
    "validation['sqft_living_sqrt'] = validation['sqft_living'].apply(sqrt)\n",
    "validation['sqft_lot_sqrt'] = validation['sqft_lot'].apply(sqrt)\n",
    "validation['bedrooms_square'] = validation['bedrooms']*validation['bedrooms']\n",
    "validation['floors_square'] = validation['floors']*validation['floors']"
   ]
  },
  {
   "cell_type": "code",
   "execution_count": 141,
   "metadata": {
    "collapsed": true
   },
   "outputs": [],
   "source": [
    "penalties = np.logspace(1, 7, num=13)"
   ]
  },
  {
   "cell_type": "code",
   "execution_count": 142,
   "metadata": {
    "collapsed": false
   },
   "outputs": [
    {
     "name": "stdout",
     "output_type": "stream",
     "text": [
      "            featuers  Penalty(10.0)  Penalty(31.6227766017)  Penalty(100.0)  \\\n",
      "0           bedrooms  -16144.562757           -17381.966510   -10062.924265   \n",
      "1    bedrooms_square     373.245384              119.275717        0.000000   \n",
      "2          bathrooms   50841.243340            42651.730910    22103.055985   \n",
      "3        sqft_living     617.853560              419.222928      169.564623   \n",
      "4   sqft_living_sqrt  -44411.354867           -24602.925286       -0.000000   \n",
      "5           sqft_lot       0.785623                0.239764       -0.000000   \n",
      "6      sqft_lot_sqrt    -701.194765             -355.793616      -98.897828   \n",
      "7             floors      -0.000000                0.000000        0.000000   \n",
      "8      floors_square    5014.200457             5361.906420     2010.345927   \n",
      "9         waterfront  619488.752486           598660.591456   548282.395707   \n",
      "10              view   38041.855652            40513.888580    42538.679778   \n",
      "11         condition   24998.771838            17411.366912     2855.781295   \n",
      "12             grade  128716.234621           125151.940724   119373.956339   \n",
      "13        sqft_above       0.000000                0.000000        0.000000   \n",
      "14     sqft_basement       0.000000                0.000000        0.000000   \n",
      "15          yr_built   -3293.831180            -3335.668558    -3039.561989   \n",
      "16      yr_renovated      10.057321                4.308570        0.000000   \n",
      "\n",
      "    Penalty(316.227766017)  Penalty(1000.0)  Penalty(3162.27766017)  \\\n",
      "0                -0.000000         0.000000                       0   \n",
      "1                 0.000000         0.000000                       0   \n",
      "2                 0.000000         0.000000                       0   \n",
      "3               162.053761       132.372355                       0   \n",
      "4                 0.000000         0.000000                       0   \n",
      "5                -0.000000         0.000000                       0   \n",
      "6                -0.000000         0.000000                       0   \n",
      "7                 0.000000         0.000000                       0   \n",
      "8                 0.000000         0.000000                       0   \n",
      "9            378573.417934         0.000000                       0   \n",
      "10            39163.580947      3184.913407                       0   \n",
      "11                0.000000         0.000000                       0   \n",
      "12            98530.759422     50123.826159                       0   \n",
      "13                0.000000         0.000000                       0   \n",
      "14                0.000000         0.000000                       0   \n",
      "15            -1611.312775        -0.000000                       0   \n",
      "16                0.000000         0.000000                       0   \n",
      "\n",
      "    Penalty(10000.0)  Penalty(31622.7766017)  Penalty(100000.0)  \\\n",
      "0                  0                       0                  0   \n",
      "1                  0                       0                  0   \n",
      "2                  0                       0                  0   \n",
      "3                  0                       0                  0   \n",
      "4                  0                       0                  0   \n",
      "5                  0                       0                  0   \n",
      "6                  0                       0                  0   \n",
      "7                  0                       0                  0   \n",
      "8                  0                       0                  0   \n",
      "9                  0                       0                  0   \n",
      "10                 0                       0                  0   \n",
      "11                 0                       0                  0   \n",
      "12                 0                       0                  0   \n",
      "13                 0                       0                  0   \n",
      "14                 0                       0                  0   \n",
      "15                 0                       0                  0   \n",
      "16                 0                       0                  0   \n",
      "\n",
      "    Penalty(316227.766017)  Penalty(1000000.0)  Penalty(3162277.66017)  \\\n",
      "0                        0                   0                       0   \n",
      "1                        0                   0                       0   \n",
      "2                        0                   0                       0   \n",
      "3                        0                   0                       0   \n",
      "4                        0                   0                       0   \n",
      "5                        0                   0                       0   \n",
      "6                        0                   0                       0   \n",
      "7                        0                   0                       0   \n",
      "8                        0                   0                       0   \n",
      "9                        0                   0                       0   \n",
      "10                       0                   0                       0   \n",
      "11                       0                   0                       0   \n",
      "12                       0                   0                       0   \n",
      "13                       0                   0                       0   \n",
      "14                       0                   0                       0   \n",
      "15                       0                   0                       0   \n",
      "16                       0                   0                       0   \n",
      "\n",
      "    Penalty(10000000.0)  \n",
      "0                     0  \n",
      "1                     0  \n",
      "2                     0  \n",
      "3                     0  \n",
      "4                     0  \n",
      "5                     0  \n",
      "6                     0  \n",
      "7                     0  \n",
      "8                     0  \n",
      "9                     0  \n",
      "10                    0  \n",
      "11                    0  \n",
      "12                    0  \n",
      "13                    0  \n",
      "14                    0  \n",
      "15                    0  \n",
      "16                    0  \n"
     ]
    }
   ],
   "source": [
    "residuals = []\n",
    "all_penalties_columns = ['featuers'] + ['Penalty(%s)' % str(x) for x in penalties]\n",
    "multy_penalties_coefs = pd.DataFrame(np.zeros((len(all_features), len(penalties) + 1)), columns=all_penalties_columns)\n",
    "multy_penalties_coefs['featuers'] = all_features\n",
    "best_model_rss = None\n",
    "best_model = None\n",
    "best_non_zero_count = None\n",
    "for l1_penalty in penalties:\n",
    "    model = linear_model.Lasso(alpha=l1_penalty, normalize=True)\n",
    "    model.fit(training[all_features], training['price'])\n",
    "    multy_penalties_coefs['Penalty(%s)' % str(l1_penalty)] = model.coef_\n",
    "    error = model.predict(validation[all_features]) - validation['price'].values\n",
    "    current_rss = error.T.dot(error)\n",
    "    if not best_model_rss or current_rss < best_model_rss:\n",
    "        best_model_rss = current_rss\n",
    "        best_model = model\n",
    "        best_non_zero_count = np.count_nonzero(model.coef_) + np.count_nonzero(model.intercept_)\n",
    "    residuals.append(current_rss)\n",
    "print(multy_penalties_coefs)"
   ]
  },
  {
   "cell_type": "code",
   "execution_count": 143,
   "metadata": {
    "collapsed": false
   },
   "outputs": [
    {
     "data": {
      "text/html": [
       "<div>\n",
       "<table border=\"1\" class=\"dataframe\">\n",
       "  <thead>\n",
       "    <tr style=\"text-align: right;\">\n",
       "      <th></th>\n",
       "      <th>l1_penalty</th>\n",
       "      <th>rss</th>\n",
       "    </tr>\n",
       "  </thead>\n",
       "  <tbody>\n",
       "    <tr>\n",
       "      <th>0</th>\n",
       "      <td>10.000000</td>\n",
       "      <td>3.982133e+14</td>\n",
       "    </tr>\n",
       "    <tr>\n",
       "      <th>1</th>\n",
       "      <td>31.622777</td>\n",
       "      <td>3.990419e+14</td>\n",
       "    </tr>\n",
       "    <tr>\n",
       "      <th>2</th>\n",
       "      <td>100.000000</td>\n",
       "      <td>4.297916e+14</td>\n",
       "    </tr>\n",
       "    <tr>\n",
       "      <th>3</th>\n",
       "      <td>316.227766</td>\n",
       "      <td>4.637398e+14</td>\n",
       "    </tr>\n",
       "    <tr>\n",
       "      <th>4</th>\n",
       "      <td>1000.000000</td>\n",
       "      <td>6.458987e+14</td>\n",
       "    </tr>\n",
       "    <tr>\n",
       "      <th>5</th>\n",
       "      <td>3162.277660</td>\n",
       "      <td>1.222507e+15</td>\n",
       "    </tr>\n",
       "    <tr>\n",
       "      <th>6</th>\n",
       "      <td>10000.000000</td>\n",
       "      <td>1.222507e+15</td>\n",
       "    </tr>\n",
       "    <tr>\n",
       "      <th>7</th>\n",
       "      <td>31622.776602</td>\n",
       "      <td>1.222507e+15</td>\n",
       "    </tr>\n",
       "    <tr>\n",
       "      <th>8</th>\n",
       "      <td>100000.000000</td>\n",
       "      <td>1.222507e+15</td>\n",
       "    </tr>\n",
       "    <tr>\n",
       "      <th>9</th>\n",
       "      <td>316227.766017</td>\n",
       "      <td>1.222507e+15</td>\n",
       "    </tr>\n",
       "    <tr>\n",
       "      <th>10</th>\n",
       "      <td>1000000.000000</td>\n",
       "      <td>1.222507e+15</td>\n",
       "    </tr>\n",
       "    <tr>\n",
       "      <th>11</th>\n",
       "      <td>3162277.660168</td>\n",
       "      <td>1.222507e+15</td>\n",
       "    </tr>\n",
       "    <tr>\n",
       "      <th>12</th>\n",
       "      <td>10000000.000000</td>\n",
       "      <td>1.222507e+15</td>\n",
       "    </tr>\n",
       "  </tbody>\n",
       "</table>\n",
       "</div>"
      ],
      "text/plain": [
       "         l1_penalty           rss\n",
       "0         10.000000  3.982133e+14\n",
       "1         31.622777  3.990419e+14\n",
       "2        100.000000  4.297916e+14\n",
       "3        316.227766  4.637398e+14\n",
       "4       1000.000000  6.458987e+14\n",
       "5       3162.277660  1.222507e+15\n",
       "6      10000.000000  1.222507e+15\n",
       "7      31622.776602  1.222507e+15\n",
       "8     100000.000000  1.222507e+15\n",
       "9     316227.766017  1.222507e+15\n",
       "10   1000000.000000  1.222507e+15\n",
       "11   3162277.660168  1.222507e+15\n",
       "12  10000000.000000  1.222507e+15"
      ]
     },
     "execution_count": 143,
     "metadata": {},
     "output_type": "execute_result"
    }
   ],
   "source": [
    "rss = pd.DataFrame(np.zeros((len(residuals), 2)), columns=['l1_penalty', 'rss'])\n",
    "rss['l1_penalty'] = penalties\n",
    "rss['rss'] = residuals\n",
    "rss"
   ]
  },
  {
   "cell_type": "code",
   "execution_count": 144,
   "metadata": {
    "collapsed": false
   },
   "outputs": [
    {
     "data": {
      "text/plain": [
       "10.0"
      ]
     },
     "execution_count": 144,
     "metadata": {},
     "output_type": "execute_result"
    }
   ],
   "source": [
    "best_model_index = residuals.index(min(residuals))\n",
    "penalties[best_model_index]"
   ]
  },
  {
   "cell_type": "code",
   "execution_count": 72,
   "metadata": {
    "collapsed": false
   },
   "outputs": [
    {
     "data": {
      "text/plain": [
       "398213327300135.0"
      ]
     },
     "execution_count": 72,
     "metadata": {},
     "output_type": "execute_result"
    }
   ],
   "source": [
    "best_model_rss"
   ]
  },
  {
   "cell_type": "code",
   "execution_count": 73,
   "metadata": {
    "collapsed": false
   },
   "outputs": [
    {
     "data": {
      "text/plain": [
       "15"
      ]
     },
     "execution_count": 73,
     "metadata": {},
     "output_type": "execute_result"
    }
   ],
   "source": [
    "best_non_zero_count"
   ]
  },
  {
   "cell_type": "code",
   "execution_count": 161,
   "metadata": {
    "collapsed": false
   },
   "outputs": [],
   "source": [
    "max_nonzeros = 7\n",
    "penalties = np.logspace(1, 4, num=20)\n",
    "non_zeros_count = []\n",
    "for l1_penalty in penalties:\n",
    "    model = linear_model.Lasso(alpha=l1_penalty, normalize=True)\n",
    "    model.fit(training[all_features], training['price'])\n",
    "    non_zeros_count.append(np.count_nonzero(model.coef_) + np.count_nonzero(model.intercept_))\n",
    "    "
   ]
  },
  {
   "cell_type": "code",
   "execution_count": 100,
   "metadata": {
    "collapsed": false
   },
   "outputs": [],
   "source": [
    "non_zeros_matrix = np.zeros((len(penalties), 3))\n",
    "non_zeros_matrix[:, 0] = range(len(penalties))\n",
    "non_zeros_matrix[:, 1] = non_zeros_count\n",
    "non_zeros_matrix[:, 2] = penalties"
   ]
  },
  {
   "cell_type": "code",
   "execution_count": 164,
   "metadata": {
    "collapsed": false
   },
   "outputs": [
    {
     "name": "stdout",
     "output_type": "stream",
     "text": [
      "[8, 7, 9]\n",
      "263.665089873\n"
     ]
    }
   ],
   "source": [
    "#boundaries = [i for i,x in enumerate(non_zeros_count) if x == max_nonzeros]\n",
    "boundaries = []\n",
    "for i,x in enumerate(non_zeros_count):\n",
    "    if x == max_nonzeros:\n",
    "        boundaries.append(i)\n",
    "        if i > 0 and non_zeros_count[i - 1] > max_nonzeros:\n",
    "            boundaries.append(i - 1)\n",
    "        if i < len(non_zeros_count) and non_zeros_count[i + 1] < max_nonzeros:\n",
    "            boundaries.append(i + 1)\n",
    "print(boundaries)\n",
    "l1_penalty_min = penalties[min(boundaries)]\n",
    "l1_penalty_max = penalties[max(boundaries)]\n",
    "l1_penalty_min_index = min(boundaries)\n",
    "l1_penalty_max_index = max(boundaries)\n",
    "print(penalties[9])"
   ]
  },
  {
   "cell_type": "code",
   "execution_count": 165,
   "metadata": {
    "collapsed": false
   },
   "outputs": [
    {
     "name": "stdout",
     "output_type": "stream",
     "text": [
      "127.42749857\n",
      "263.665089873\n"
     ]
    }
   ],
   "source": [
    "print( l1_penalty_min)\n",
    "print(l1_penalty_max)"
   ]
  },
  {
   "cell_type": "code",
   "execution_count": 166,
   "metadata": {
    "collapsed": false
   },
   "outputs": [
    {
     "data": {
      "text/plain": [
       "array([[  0.00000000e+00,   1.50000000e+01,   1.00000000e+01],\n",
       "       [  1.00000000e+00,   1.50000000e+01,   1.43844989e+01],\n",
       "       [  2.00000000e+00,   1.50000000e+01,   2.06913808e+01],\n",
       "       [  3.00000000e+00,   1.50000000e+01,   2.97635144e+01],\n",
       "       [  4.00000000e+00,   1.30000000e+01,   4.28133240e+01],\n",
       "       [  5.00000000e+00,   1.20000000e+01,   6.15848211e+01],\n",
       "       [  6.00000000e+00,   1.10000000e+01,   8.85866790e+01],\n",
       "       [  7.00000000e+00,   1.00000000e+01,   1.27427499e+02],\n",
       "       [  8.00000000e+00,   7.00000000e+00,   1.83298071e+02],\n",
       "       [  9.00000000e+00,   6.00000000e+00,   2.63665090e+02],\n",
       "       [  1.00000000e+01,   6.00000000e+00,   3.79269019e+02],\n",
       "       [  1.10000000e+01,   6.00000000e+00,   5.45559478e+02],\n",
       "       [  1.20000000e+01,   5.00000000e+00,   7.84759970e+02],\n",
       "       [  1.30000000e+01,   3.00000000e+00,   1.12883789e+03],\n",
       "       [  1.40000000e+01,   3.00000000e+00,   1.62377674e+03],\n",
       "       [  1.50000000e+01,   2.00000000e+00,   2.33572147e+03],\n",
       "       [  1.60000000e+01,   1.00000000e+00,   3.35981829e+03],\n",
       "       [  1.70000000e+01,   1.00000000e+00,   4.83293024e+03],\n",
       "       [  1.80000000e+01,   1.00000000e+00,   6.95192796e+03],\n",
       "       [  1.90000000e+01,   1.00000000e+00,   1.00000000e+04]])"
      ]
     },
     "execution_count": 166,
     "metadata": {},
     "output_type": "execute_result"
    }
   ],
   "source": [
    "non_zeros_matrix"
   ]
  },
  {
   "cell_type": "code",
   "execution_count": 169,
   "metadata": {
    "collapsed": false
   },
   "outputs": [],
   "source": [
    "best_max_features_model = None\n",
    "best_max_featuers_rss = None\n",
    "best_max_features_penalty = None\n",
    "for l1_penalty in np.linspace(l1_penalty_min,l1_penalty_max,20):\n",
    "    model = linear_model.Lasso(alpha=l1_penalty, normalize=True)\n",
    "    model.fit(training[all_features], training['price'])\n",
    "    predictions = model.predict(validation[all_features])\n",
    "    errors = predictions - validation['price'].values\n",
    "    rss = errors.T.dot(errors)\n",
    "    feature_count = np.count_nonzero(model.coef_) + np.count_nonzero(model.intercept_)\n",
    "    if (not best_max_featuers_rss or best_max_featuers_rss > rss) and feature_count == max_nonzeros:\n",
    "        best_max_featuers_rss = rss\n",
    "        best_max_features_model = model\n",
    "        best_max_features_penalty = l1_penalty"
   ]
  },
  {
   "cell_type": "code",
   "execution_count": 170,
   "metadata": {
    "collapsed": false
   },
   "outputs": [
    {
     "data": {
      "text/plain": [
       "156.10909673930755"
      ]
     },
     "execution_count": 170,
     "metadata": {},
     "output_type": "execute_result"
    }
   ],
   "source": [
    "best_max_features_penalty"
   ]
  },
  {
   "cell_type": "code",
   "execution_count": 172,
   "metadata": {
    "collapsed": false
   },
   "outputs": [
    {
     "name": "stdout",
     "output_type": "stream",
     "text": [
      "            features          coefs\n",
      "0           bedrooms      -0.000000\n",
      "1    bedrooms_square      -0.000000\n",
      "2          bathrooms   10610.890284\n",
      "3        sqft_living     163.380252\n",
      "4   sqft_living_sqrt       0.000000\n",
      "5           sqft_lot      -0.000000\n",
      "6      sqft_lot_sqrt      -0.000000\n",
      "7             floors       0.000000\n",
      "8      floors_square       0.000000\n",
      "9         waterfront  506451.687115\n",
      "10              view   41960.043555\n",
      "11         condition       0.000000\n",
      "12             grade  116253.553700\n",
      "13        sqft_above       0.000000\n",
      "14     sqft_basement       0.000000\n",
      "15          yr_built   -2612.234880\n",
      "16      yr_renovated       0.000000\n"
     ]
    }
   ],
   "source": [
    "best_max_feature_coefs = pd.DataFrame(np.zeros((len(all_features), 2)), columns=['features', 'coefs'])\n",
    "best_max_feature_coefs['features'] = all_features\n",
    "best_max_feature_coefs['coefs'] = best_max_features_model.coef_\n",
    "print(best_max_feature_coefs)"
   ]
  },
  {
   "cell_type": "code",
   "execution_count": null,
   "metadata": {
    "collapsed": true
   },
   "outputs": [],
   "source": []
  }
 ],
 "metadata": {
  "kernelspec": {
   "display_name": "Python 3",
   "language": "python",
   "name": "python3"
  },
  "language_info": {
   "codemirror_mode": {
    "name": "ipython",
    "version": 3
   },
   "file_extension": ".py",
   "mimetype": "text/x-python",
   "name": "python",
   "nbconvert_exporter": "python",
   "pygments_lexer": "ipython3",
   "version": "3.5.1"
  }
 },
 "nbformat": 4,
 "nbformat_minor": 0
}
