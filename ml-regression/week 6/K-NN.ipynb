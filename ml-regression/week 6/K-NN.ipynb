{
 "cells": [
  {
   "cell_type": "code",
   "execution_count": 1,
   "metadata": {
    "collapsed": true
   },
   "outputs": [],
   "source": [
    "import pandas as pd\n",
    "import numpy as np"
   ]
  },
  {
   "cell_type": "code",
   "execution_count": 7,
   "metadata": {
    "collapsed": true
   },
   "outputs": [],
   "source": [
    "dtype_dict = {'bathrooms':float, 'waterfront':int, 'sqft_above':int, 'sqft_living15':float, \n",
    "              'grade':int, 'yr_renovated':int, 'price':float, 'bedrooms':float, 'zipcode':str, \n",
    "              'long':float, 'sqft_lot15':float, 'sqft_living':float, 'floors':float, \n",
    "              'condition':int, 'lat':float, 'date':str, 'sqft_basement':int, \n",
    "              'yr_built':int, 'id':str, 'sqft_lot':int, 'view':int}"
   ]
  },
  {
   "cell_type": "code",
   "execution_count": 311,
   "metadata": {
    "collapsed": true
   },
   "outputs": [],
   "source": [
    "train = pd.read_csv('kc_house_data_small_train.csv', dtype=dtype_dict)\n",
    "validation = pd.read_csv('kc_house_data_validation.csv', dtype=dtype_dict)\n",
    "test = pd.read_csv('kc_house_data_small_test.csv', dtype=dtype_dict)\n",
    "sales = pd.read_csv('kc_house_data_small.csv', dtype=dtype_dict)"
   ]
  },
  {
   "cell_type": "code",
   "execution_count": 312,
   "metadata": {
    "collapsed": true
   },
   "outputs": [],
   "source": [
    "def get_numpy_data(data_sframe, features, output):\n",
    "    feature_matrix = data_sframe[features].values\n",
    "    output_array = data_sframe[[output]].values\n",
    "    return (feature_matrix, output_array)"
   ]
  },
  {
   "cell_type": "code",
   "execution_count": 313,
   "metadata": {
    "collapsed": true
   },
   "outputs": [],
   "source": [
    "def normalize_features(features):\n",
    "    norms = np.linalg.norm(features, axis=0)\n",
    "    return (features/norms, norms)"
   ]
  },
  {
   "cell_type": "code",
   "execution_count": 314,
   "metadata": {
    "collapsed": false
   },
   "outputs": [],
   "source": [
    "feature_list = ['bedrooms',  \n",
    "                'bathrooms',  \n",
    "                'sqft_living',  \n",
    "                'sqft_lot',  \n",
    "                'floors',\n",
    "                'waterfront',  \n",
    "                'view',  \n",
    "                'condition',  \n",
    "                'grade',  \n",
    "                'sqft_above',  \n",
    "                'sqft_basement',\n",
    "                'yr_built',  \n",
    "                'yr_renovated',  \n",
    "                'lat',  \n",
    "                'long',  \n",
    "                'sqft_living15',  \n",
    "                'sqft_lot15']\n",
    "my_features = list(dtype_dict.keys()- ['id', 'date', 'zipcode', 'price'])\n",
    "features_train,output_train = get_numpy_data(train, feature_list, 'price')\n",
    "features_valid,output_valid = get_numpy_data(validation, feature_list, 'price')\n",
    "features_test,output_test = get_numpy_data(test, feature_list, 'price')"
   ]
  },
  {
   "cell_type": "code",
   "execution_count": 315,
   "metadata": {
    "collapsed": false
   },
   "outputs": [
    {
     "data": {
      "text/plain": [
       "set()"
      ]
     },
     "execution_count": 315,
     "metadata": {},
     "output_type": "execute_result"
    }
   ],
   "source": [
    "set(my_features) - set(feature_list)"
   ]
  },
  {
   "cell_type": "code",
   "execution_count": 316,
   "metadata": {
    "collapsed": false
   },
   "outputs": [],
   "source": [
    "features_train, norms = normalize_features(features_train)\n",
    "features_test = features_test / norms\n",
    "features_valid = features_valid / norms"
   ]
  },
  {
   "cell_type": "markdown",
   "metadata": {},
   "source": [
    "# Quiz Question: What is the Euclidean distance between the query house and the 10th house of the training set?"
   ]
  },
  {
   "cell_type": "code",
   "execution_count": 317,
   "metadata": {
    "collapsed": false
   },
   "outputs": [
    {
     "name": "stdout",
     "output_type": "stream",
     "text": [
      "[ 0.01551285  0.01807473  0.01759212  0.00160518  0.017059    0.\n",
      "  0.05102365  0.0116321   0.01564352  0.01362084  0.02481682  0.01350306\n",
      "  0.          0.01345387 -0.01346922  0.01375926  0.0016225 ]\n",
      "[ 0.01163464  0.00602491  0.0083488   0.00050756  0.01279425  0.          0.\n",
      "  0.01938684  0.01390535  0.0096309   0.          0.01302544  0.\n",
      "  0.01346821 -0.01346251  0.01195898  0.00156612]\n"
     ]
    }
   ],
   "source": [
    "print(features_test[0])\n",
    "print(features_train[9])"
   ]
  },
  {
   "cell_type": "code",
   "execution_count": 318,
   "metadata": {
    "collapsed": true
   },
   "outputs": [],
   "source": [
    "import math"
   ]
  },
  {
   "cell_type": "code",
   "execution_count": 319,
   "metadata": {
    "collapsed": false
   },
   "outputs": [],
   "source": [
    "def get_distance(vec1, vec2):\n",
    "    return math.sqrt(np.sum((vec1 - vec2)**2))"
   ]
  },
  {
   "cell_type": "code",
   "execution_count": 320,
   "metadata": {
    "collapsed": false
   },
   "outputs": [
    {
     "data": {
      "text/plain": [
       "0.05972359371398078"
      ]
     },
     "execution_count": 320,
     "metadata": {},
     "output_type": "execute_result"
    }
   ],
   "source": [
    "get_distance(features_test[0], features_train[9])"
   ]
  },
  {
   "cell_type": "markdown",
   "metadata": {},
   "source": [
    "# Quiz Question: Among the first 10 training houses, which house is the closest to the query house?"
   ]
  },
  {
   "cell_type": "code",
   "execution_count": 321,
   "metadata": {
    "collapsed": true
   },
   "outputs": [],
   "source": [
    "min_distance = None\n",
    "closest_house = None\n",
    "for i, train_house in enumerate(features_train[0:10]):\n",
    "    dist = get_distance(features_test[0], train_house)\n",
    "    if i == 0 or dist < min_distance:\n",
    "        min_distance = dist\n",
    "        closest_house = i"
   ]
  },
  {
   "cell_type": "code",
   "execution_count": 322,
   "metadata": {
    "collapsed": false
   },
   "outputs": [
    {
     "name": "stdout",
     "output_type": "stream",
     "text": [
      "0.052383627840220305\n",
      "8\n"
     ]
    }
   ],
   "source": [
    "print(min_distance)\n",
    "print(closest_house)"
   ]
  },
  {
   "cell_type": "code",
   "execution_count": 323,
   "metadata": {
    "collapsed": false
   },
   "outputs": [],
   "source": [
    "diff = features_train - features_test[0]"
   ]
  },
  {
   "cell_type": "code",
   "execution_count": 324,
   "metadata": {
    "collapsed": false
   },
   "outputs": [
    {
     "data": {
      "text/plain": [
       "-0.093433998746546426"
      ]
     },
     "execution_count": 324,
     "metadata": {},
     "output_type": "execute_result"
    }
   ],
   "source": [
    "np.sum(diff[-1], axis=0)"
   ]
  },
  {
   "cell_type": "code",
   "execution_count": 325,
   "metadata": {
    "collapsed": true
   },
   "outputs": [],
   "source": [
    "dist = np.sqrt(np.sum(diff**2, axis=1))"
   ]
  },
  {
   "cell_type": "code",
   "execution_count": 326,
   "metadata": {
    "collapsed": false
   },
   "outputs": [
    {
     "data": {
      "text/plain": [
       "0.023708232416678195"
      ]
     },
     "execution_count": 326,
     "metadata": {},
     "output_type": "execute_result"
    }
   ],
   "source": [
    "dist[100]"
   ]
  },
  {
   "cell_type": "code",
   "execution_count": 327,
   "metadata": {
    "collapsed": true
   },
   "outputs": [],
   "source": [
    "def compute_distances(features_instances, features_query):\n",
    "    diff = features_instances - features_query\n",
    "    distances = np.sqrt(np.sum(diff**2, axis=1))\n",
    "    return distances"
   ]
  },
  {
   "cell_type": "markdown",
   "metadata": {},
   "source": [
    "# 17. Quiz Question: What is the predicted value of the query house based on 1-nearest neighbor regression?"
   ]
  },
  {
   "cell_type": "code",
   "execution_count": 328,
   "metadata": {
    "collapsed": false
   },
   "outputs": [
    {
     "name": "stdout",
     "output_type": "stream",
     "text": [
      "[ 0.01954476  0.06861035  0.02165079 ...,  0.02433478  0.02622734\n",
      "  0.02637942]\n",
      "382\n"
     ]
    }
   ],
   "source": [
    "distances = compute_distances(features_train, features_test[2])\n",
    "print(distances)\n",
    "print(np.argmin(distances))"
   ]
  },
  {
   "cell_type": "code",
   "execution_count": 296,
   "metadata": {
    "collapsed": false
   },
   "outputs": [
    {
     "data": {
      "text/plain": [
       "(array([382]),)"
      ]
     },
     "execution_count": 296,
     "metadata": {},
     "output_type": "execute_result"
    }
   ],
   "source": [
    "np.where(distances == min(distances))"
   ]
  },
  {
   "cell_type": "code",
   "execution_count": 297,
   "metadata": {
    "collapsed": false
   },
   "outputs": [
    {
     "data": {
      "text/plain": [
       "0.0032258402701799303"
      ]
     },
     "execution_count": 297,
     "metadata": {},
     "output_type": "execute_result"
    }
   ],
   "source": [
    "distances[1149]"
   ]
  },
  {
   "cell_type": "code",
   "execution_count": 298,
   "metadata": {
    "collapsed": true
   },
   "outputs": [],
   "source": [
    "def k_nearest_neighbors(k, feature_train, features_query):\n",
    "    distances = compute_distances(features_train, features_query)\n",
    "    return distances, np.argsort(distances)[:k]"
   ]
  },
  {
   "cell_type": "code",
   "execution_count": 299,
   "metadata": {
    "collapsed": false
   },
   "outputs": [],
   "source": [
    "distances, neighbours = k_nearest_neighbors(4, features_train, features_test[2])"
   ]
  },
  {
   "cell_type": "code",
   "execution_count": 300,
   "metadata": {
    "collapsed": false
   },
   "outputs": [
    {
     "name": "stdout",
     "output_type": "stream",
     "text": [
      "0.00286049555751\n",
      "0.00322584027018\n",
      "0.00350215633337\n",
      "0.00359315383341\n",
      "[ 382 1149 4087 3142]\n"
     ]
    }
   ],
   "source": [
    "for n in neighbours:\n",
    "    print(distances[n])\n",
    "print(neighbours)"
   ]
  },
  {
   "cell_type": "code",
   "execution_count": 301,
   "metadata": {
    "collapsed": false
   },
   "outputs": [
    {
     "name": "stdout",
     "output_type": "stream",
     "text": [
      "[ 382 1149 4087 3142]\n"
     ]
    }
   ],
   "source": [
    "print(neighbours)"
   ]
  },
  {
   "cell_type": "code",
   "execution_count": 302,
   "metadata": {
    "collapsed": true
   },
   "outputs": [],
   "source": [
    "def predict_output_of_query(k, features_train, output_train, features_query):\n",
    "    distances, neighbours = k_nearest_neighbors(k, features_train, features_query)\n",
    "    prediction = output_train[neighbours].mean()\n",
    "    return prediction"
   ]
  },
  {
   "cell_type": "code",
   "execution_count": 303,
   "metadata": {
    "collapsed": false
   },
   "outputs": [
    {
     "data": {
      "text/plain": [
       "249000.0"
      ]
     },
     "execution_count": 303,
     "metadata": {},
     "output_type": "execute_result"
    }
   ],
   "source": [
    "predict_output_of_query(1, features_train, output_train, features_test[2])"
   ]
  },
  {
   "cell_type": "code",
   "execution_count": 304,
   "metadata": {
    "collapsed": false
   },
   "outputs": [
    {
     "data": {
      "text/plain": [
       "413987.5"
      ]
     },
     "execution_count": 304,
     "metadata": {},
     "output_type": "execute_result"
    }
   ],
   "source": [
    "predict_output_of_query(4, features_train, output_train, features_test[2])"
   ]
  },
  {
   "cell_type": "code",
   "execution_count": 305,
   "metadata": {
    "collapsed": false
   },
   "outputs": [
    {
     "name": "stdout",
     "output_type": "stream",
     "text": [
      "[ 438000.]\n"
     ]
    }
   ],
   "source": [
    "print(output_test[2])"
   ]
  },
  {
   "cell_type": "code",
   "execution_count": 306,
   "metadata": {
    "collapsed": false
   },
   "outputs": [],
   "source": [
    "def predict_output(k, features_train, output_train, features_query):\n",
    "    #distances, neighbours = k_nearest_neighbors(k, features_train, features_query)\n",
    "    predictions = np.zeros((features_query.shape[0], 1))\n",
    "    for i in range(features_query.shape[0]):\n",
    "        predictions[i,0] = predict_output_of_query(k,features_train, output_train, features_query[i])\n",
    "    return predictions"
   ]
  },
  {
   "cell_type": "code",
   "execution_count": 307,
   "metadata": {
    "collapsed": false
   },
   "outputs": [
    {
     "name": "stdout",
     "output_type": "stream",
     "text": [
      "[[ 881300. ]\n",
      " [ 431860. ]\n",
      " [ 460595. ]\n",
      " [ 430200. ]\n",
      " [ 766750. ]\n",
      " [ 667420. ]\n",
      " [ 350032. ]\n",
      " [ 512800.7]\n",
      " [ 484000. ]\n",
      " [ 457235. ]]\n",
      "6\n"
     ]
    }
   ],
   "source": [
    "predictions = predict_output(10, features_train, output_train, features_test[:10])\n",
    "print(predictions)\n",
    "print(np.argmin(predictions))"
   ]
  },
  {
   "cell_type": "code",
   "execution_count": 308,
   "metadata": {
    "collapsed": false
   },
   "outputs": [
    {
     "name": "stdout",
     "output_type": "stream",
     "text": [
      "[[ 650000.]\n",
      " [ 485000.]\n",
      " [ 438000.]\n",
      " [ 535000.]\n",
      " [ 785000.]\n",
      " [ 975000.]\n",
      " [ 287000.]\n",
      " [ 355000.]\n",
      " [ 305000.]\n",
      " [ 518500.]]\n"
     ]
    }
   ],
   "source": [
    "print(output_test[:10])"
   ]
  },
  {
   "cell_type": "code",
   "execution_count": 309,
   "metadata": {
    "collapsed": false
   },
   "outputs": [
    {
     "name": "stdout",
     "output_type": "stream",
     "text": [
      "RSS for k=1: [[  1.05453830e+14]]\n",
      "RSS for k=2: [[  8.34450735e+13]]\n",
      "RSS for k=3: [[  7.26920960e+13]]\n",
      "RSS for k=4: [[  7.19467217e+13]]\n",
      "RSS for k=5: [[  6.98465174e+13]]\n",
      "RSS for k=6: [[  6.88995444e+13]]\n",
      "RSS for k=7: [[  6.83419735e+13]]\n",
      "RSS for k=8: [[  6.73616787e+13]]\n",
      "RSS for k=9: [[  6.83727280e+13]]\n",
      "RSS for k=10: [[  6.93350487e+13]]\n",
      "RSS for k=11: [[  6.95238552e+13]]\n",
      "RSS for k=12: [[  6.90499696e+13]]\n",
      "RSS for k=13: [[  7.00112545e+13]]\n",
      "RSS for k=14: [[  7.09086989e+13]]\n",
      "RSS for k=15: [[  7.11069284e+13]]\n"
     ]
    }
   ],
   "source": [
    "rsss = []\n",
    "for k in range(1,16):\n",
    "    predictions = predict_output(k, features_train, output_train, features_valid)\n",
    "    error = predictions - output_valid\n",
    "    rss = error.T.dot(error)\n",
    "    print('RSS for k=%s: %s' % (k, rss))\n",
    "    rsss.append(rss)"
   ]
  },
  {
   "cell_type": "code",
   "execution_count": 310,
   "metadata": {
    "collapsed": false
   },
   "outputs": [
    {
     "name": "stdout",
     "output_type": "stream",
     "text": [
      "[[  1.49008587e+14]]\n"
     ]
    }
   ],
   "source": [
    "predictions = predict_output(3, features_train, output_train, features_test)\n",
    "error = predictions - output_test\n",
    "rss = error.T.dot(error)\n",
    "print(rss)"
   ]
  },
  {
   "cell_type": "code",
   "execution_count": null,
   "metadata": {
    "collapsed": true
   },
   "outputs": [],
   "source": []
  }
 ],
 "metadata": {
  "kernelspec": {
   "display_name": "Python 3",
   "language": "python",
   "name": "python3"
  },
  "language_info": {
   "codemirror_mode": {
    "name": "ipython",
    "version": 3
   },
   "file_extension": ".py",
   "mimetype": "text/x-python",
   "name": "python",
   "nbconvert_exporter": "python",
   "pygments_lexer": "ipython3",
   "version": "3.5.1"
  }
 },
 "nbformat": 4,
 "nbformat_minor": 0
}
